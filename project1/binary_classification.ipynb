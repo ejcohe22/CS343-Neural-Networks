{
 "cells": [
  {
   "cell_type": "markdown",
   "metadata": {},
   "source": [
    "**Sawyer Strong & Erik Cohen**\n",
    "\n",
    "Fall 2019\n",
    "\n",
    "CS343: Neural Networks\n",
    "\n",
    "Project 1: Single layer networks\n",
    "\n",
    "**FINAL DUE 11:59pm Thurs Sept 19**\n",
    "- `binary_classification.ipynb` (this notebook)\n",
    "- `adaline.py`\n",
    "- `adaline_logistic.py`\n",
    "- `binary_regression.ipynb`\n",
    "\n",
    "**REMINDER**: Submit rubric on Google Classroom"
   ]
  },
  {
   "cell_type": "code",
   "execution_count": 1,
   "metadata": {},
   "outputs": [],
   "source": [
    "import numpy as np\n",
    "import matplotlib.pyplot as plt\n",
    "import pandas as pd\n",
    "\n",
    "from adaline import Adaline\n",
    "\n",
    "# Set the color style so that Professor Layton can see your plots\n",
    "plt.style.use(['seaborn-colorblind', 'seaborn-darkgrid'])\n",
    "# Make the font size larger\n",
    "plt.rcParams.update({'font.size': 20})\n",
    "\n",
    "# Turn off scientific notation when printing\n",
    "np.set_printoptions(suppress=True, precision=3)\n",
    "\n",
    "# Automatically reload your external source code\n",
    "%load_ext autoreload\n",
    "%autoreload 2"
   ]
  },
  {
   "cell_type": "markdown",
   "metadata": {},
   "source": [
    "### Reminders\n",
    "\n",
    "- In this class, use `numpy ndarray` (`np.array()`), not Numpy Matrix.\n",
    "- To safeguard against data loss when working in a jupyter notebook, make sure the notebook is `Trusted` (Top right corner of notebook). This will ensure your work autosaves. **I still recommend manually saving at least every few minutes with (Control+S / Cmd+S)**"
   ]
  },
  {
   "cell_type": "markdown",
   "metadata": {},
   "source": [
    "## Goals\n",
    "\n",
    "In this project, you will implement a single-layer neural network that includes the same fundamental components as larger multi-level networks.\n",
    "\n",
    "**The goals are to:**\n",
    "\n",
    "- Get familar with Jupyter notebooks, Numpy arrays, Pandas.\n",
    "- Get familar with the workflow for preprocessing data, training a neural network, evaluating test data, and examining performance metrics.\n",
    "- Analyze and visualize the decision boundaries formed by single-layer networks.\n",
    "- Use a similar neural network architecture for classification and for regression.\n",
    "- Work with multiple datasets."
   ]
  },
  {
   "cell_type": "markdown",
   "metadata": {},
   "source": [
    "## Task 1) Implement the ADAptive LInear NEuron (ADALINE) network for binary classification\n"
   ]
  },
  {
   "cell_type": "markdown",
   "metadata": {},
   "source": [
    "In Task 1, complete the methods of the `Adaline` class in `adaline.py`. This includes:\n",
    "\n",
    "- `net_input(self, features)`\n",
    "- `activation(self, net_in)`\n",
    "- `compute_loss(self, errors)`\n",
    "- `compute_accuracy(self, y, y_pred)`\n",
    "- `gradient(self, errors, features)`\n",
    "\n",
    "- `predict(self, features)`\n",
    "- `fit(self, features, y)`\n",
    "\n",
    "**Important:** Before starting, read through the method descriptions and expected inputs/outputs. It probabily woud be a good idea to tackle simpler/smaller methods first, then use them in more complex ones. For example it may be a good idea to work on `net_input` first because it is required to complete `fit`."
   ]
  },
  {
   "cell_type": "markdown",
   "metadata": {},
   "source": [
    "Here is a summary of the ADALINE network equations\n",
    "\n",
    "##### Net input\n",
    "\n",
    "$$\\text{netIn} = \\sum_{i=1}^M x_i w_i + b$$\n",
    "\n",
    "##### Net activation\n",
    "\n",
    "$$f(x) = x$$\n",
    "\n",
    "##### Loss: Sum of squared error\n",
    "\n",
    "$$L(\\vec{w}) = \\frac{1}{2} \\sum_{i=1}^N \\left ( y_i - \\text{netAct}_i \\right )^2 $$\n",
    "\n",
    "##### Gradient (bias)\n",
    "\n",
    "$$\\frac{\\partial L}{\\partial b} = \\sum_{i=1}^N \\left ( y_i - \\text{netAct}_i \\right )$$\n",
    "\n",
    "##### Gradient (wts)\n",
    "\n",
    "$$\\frac{\\partial L}{\\partial w_j} = \\sum_{i=1}^N \\left ( y_i - \\text{netAct}_i \\right ) x_j$$\n",
    "\n",
    "##### Gradient descent (delta rule)\n",
    "\n",
    "$$b(t+1) = b(t) + \\eta \\frac{\\partial L}{\\partial b}$$\n",
    "$$w_j(t+1) = w_j(t) + \\eta \\frac{\\partial L}{\\partial w_j}$$\n",
    "\n",
    "above $\\eta$ is the learning rate, and $N$ is the training set (number of data samples in training epoch)."
   ]
  },
  {
   "cell_type": "markdown",
   "metadata": {},
   "source": [
    "### a. Test your ADALINE implementation"
   ]
  },
  {
   "cell_type": "code",
   "execution_count": 2,
   "metadata": {},
   "outputs": [],
   "source": [
    "net = Adaline()"
   ]
  },
  {
   "cell_type": "markdown",
   "metadata": {},
   "source": [
    "#### Test `loss` function"
   ]
  },
  {
   "cell_type": "code",
   "execution_count": 3,
   "metadata": {},
   "outputs": [
    {
     "name": "stdout",
     "output_type": "stream",
     "text": [
      "Your loss is 3.6609344768925496 and it should be 3.6609344768925496\n"
     ]
    }
   ],
   "source": [
    "np.random.seed(0)\n",
    "randErrors = np.array([-0.835,  0.322, -0.381,  0.496, -0.89 , -0.953])\n",
    "net_act = np.random.rand(len(randErrors))\n",
    "debugLoss = net.compute_loss(randErrors, net_act)\n",
    "print(f'Your loss is {debugLoss} and it should be 3.6609344768925496')"
   ]
  },
  {
   "cell_type": "markdown",
   "metadata": {},
   "source": [
    "#### Test `accuracy` function"
   ]
  },
  {
   "cell_type": "code",
   "execution_count": 4,
   "metadata": {
    "scrolled": true
   },
   "outputs": [
    {
     "name": "stdout",
     "output_type": "stream",
     "text": [
      "Test 1: Your accuracy is 1.0 and it should be 1.0\n",
      "Test 2: Your accuracy is 0.3333333333333333 and it should be 0.33333333333333337\n"
     ]
    }
   ],
   "source": [
    "randClasses1 = np.where(randErrors >= 0, 1, -1)\n",
    "randClasses2 = np.roll(randClasses1, 1)\n",
    "acc1 = net.compute_accuracy(randClasses1, randClasses1)\n",
    "acc2 = net.compute_accuracy(randClasses1, randClasses2)\n",
    "print(f'Test 1: Your accuracy is {acc1} and it should be 1.0')\n",
    "print(f'Test 2: Your accuracy is {acc2} and it should be 0.33333333333333337')"
   ]
  },
  {
   "cell_type": "markdown",
   "metadata": {},
   "source": [
    "#### Test `gradient` function"
   ]
  },
  {
   "cell_type": "code",
   "execution_count": 5,
   "metadata": {},
   "outputs": [
    {
     "name": "stdout",
     "output_type": "stream",
     "text": [
      "Test 1: Your bias gradient is -0.7839944892482784 and it should be -0.7839944892482784\n",
      "Test 2: Your wt gradient is [-0.4    0.897 -7.689] and it should be [-0.4    0.897 -7.689]\n"
     ]
    }
   ],
   "source": [
    "np.random.seed(0)\n",
    "randFeatures = np.random.normal(loc=0, scale=1, size=(10,3))\n",
    "randErrors1 = np.random.normal(loc=0, scale=1, size=(10,))\n",
    "randBiasGrad, randWtGrad = net.gradient(randErrors1, randFeatures)\n",
    "print(f'Test 1: Your bias gradient is {randBiasGrad} and it should be -0.7839944892482784')\n",
    "print(f'Test 2: Your wt gradient is {randWtGrad} and it should be [-0.4    0.897 -7.689]')"
   ]
  },
  {
   "cell_type": "markdown",
   "metadata": {},
   "source": [
    "#### Test `predict` function"
   ]
  },
  {
   "cell_type": "code",
   "execution_count": 6,
   "metadata": {},
   "outputs": [
    {
     "name": "stdout",
     "output_type": "stream",
     "text": [
      "Your predicted classes are [-1. -1. -1. -1. -1. -1. -1. -1.  1. -1.].\n",
      "            They should be [-1 -1 -1 -1 -1 -1 -1 -1  1 -1]\n"
     ]
    }
   ],
   "source": [
    "np.random.seed(0)\n",
    "inputs = np.random.randn(10, 5)\n",
    "net.wts = np.random.randn(6)\n",
    "y_pred = net.predict(inputs)\n",
    "print(f'Your predicted classes are {y_pred}.\\n            They should be [-1 -1 -1 -1 -1 -1 -1 -1  1 -1]')"
   ]
  },
  {
   "cell_type": "markdown",
   "metadata": {},
   "source": [
    "#### Test `fit` function"
   ]
  },
  {
   "cell_type": "code",
   "execution_count": 7,
   "metadata": {},
   "outputs": [
    {
     "name": "stdout",
     "output_type": "stream",
     "text": [
      "Your end-of-training loss / accuracy are\n",
      "3.9448748875503834 / 0.6.\n",
      "They should be\n",
      "3.944874887550384 / 0.6\n",
      "Your wts after training are:\n",
      "[-0.298 -0.033  0.33  -0.382 -0.192  0.087]\n",
      "and should be\n",
      "[-0.298 -0.033  0.33  -0.382 -0.192  0.087]\n"
     ]
    }
   ],
   "source": [
    "np.random.seed(0)\n",
    "net = Adaline()\n",
    "inputs = np.random.randn(10, 5)\n",
    "y = np.sign(np.random.randn(10))\n",
    "loss, acc = net.fit(inputs, y)\n",
    "print(f'Your end-of-training loss / accuracy are\\n{loss[-1]} / {acc[-1]}.\\nThey should be\\n3.944874887550384 / 0.6')\n",
    "print(f'Your wts after training are:\\n{net.get_wts()}\\nand should be\\n[-0.298 -0.033  0.33  -0.382 -0.192  0.087]')"
   ]
  },
  {
   "cell_type": "markdown",
   "metadata": {},
   "source": [
    "### b. Load in and preprocess old faithful data\n",
    "\n",
    "Write code to do the following in the below cell.\n",
    "\n",
    "- Load in `old_faithful.csv`, represent data using a ndarray. Shape = [Num samps, Num features] = [272, 2].\n",
    "- Assign the output classes (**severe**) to a separate 1D ndarray vector. Shape=(272,)\n",
    "- Preprocess the data by normalizing by the global maximum. I.e. the max value over all features in the transformed dataset should be 1.0. Stated a different way, only one feature component of one data sample vector equals 1.0, everything else is smaller.\n",
    "- Use matplotlib to create a scatter plot of the normalized data, color-coding data points according to their class\n",
    "- I suggest using pandas, but you're welcome to do this however you like.\n",
    "- **Make sure that executing the below cell results in an inline scatter plot, color-coded by class.**"
   ]
  },
  {
   "cell_type": "code",
   "execution_count": 8,
   "metadata": {},
   "outputs": [
    {
     "data": {
      "image/png": "[encoded data removed]",
      "text/plain": [
       "<Figure size 432x288 with 1 Axes>"
      ]
     },
     "metadata": {
      "needs_background": "light"
     },
     "output_type": "display_data"
    }
   ],
   "source": [
    "df = pd.read_csv('data/old_faithful.csv')\n",
    "data = df.to_numpy()\n",
    "\n",
    "severe = data[:, 3]\n",
    "data = data[:, 1:3]\n",
    "data = data/data.max()\n",
    "\n",
    "plt.scatter(data[:,0], data[:, 1], c=severe)\n",
    "plt.xlabel(\"erruptions\")\n",
    "plt.ylabel(\"waiting\")\n",
    "plt.show()"
   ]
  },
  {
   "cell_type": "markdown",
   "metadata": {},
   "source": [
    "### c. Train ADALINE on normalized Old Faithful data using default hyperparameters (i.e. learning rate, epochs)\n",
    "\n",
    "By the final epoch, training loss should reach ~23.74 and accuracy ~97%."
   ]
  },
  {
   "cell_type": "code",
   "execution_count": 9,
   "metadata": {},
   "outputs": [
    {
     "name": "stdout",
     "output_type": "stream",
     "text": [
      "At the end of training, your loss is 23.74 and accuracy is 0.97\n"
     ]
    }
   ],
   "source": [
    "net = Adaline()\n",
    "loss, acc = net.fit(data, severe)\n",
    "print(f'At the end of training, your loss is {loss[-1]:.2f} and accuracy is {acc[-1]:.2f}')"
   ]
  },
  {
   "cell_type": "markdown",
   "metadata": {},
   "source": [
    "- Use the provided function to plot your training results inline in the below cell."
   ]
  },
  {
   "cell_type": "code",
   "execution_count": 10,
   "metadata": {},
   "outputs": [
    {
     "data": {
      "image/png": "[encoded data removed]",
      "text/plain": [
       "<Figure size 1008x360 with 2 Axes>"
      ]
     },
     "metadata": {
      "needs_background": "light"
     },
     "output_type": "display_data"
    }
   ],
   "source": [
    "def plot_adaline_train(net, loss_list, acc_list, plotMarkers=False):\n",
    "    n_epochs = net.get_num_epochs()\n",
    "    lr = net.get_learning_rate()\n",
    "    \n",
    "    x = np.arange(1, n_epochs+1)\n",
    "    \n",
    "    fig, (ax1, ax2) = plt.subplots(nrows=1, ncols=2, figsize=(14, 5))\n",
    "    fig.suptitle(f'ADALINE (lr={lr}, {n_epochs} epochs)')\n",
    "    \n",
    "    curveStr = '-r'\n",
    "    if plotMarkers:\n",
    "        curveStr += 'o'\n",
    "    \n",
    "    \n",
    "    ax1.plot(x, loss_list, curveStr)\n",
    "    ax1.set_xlabel('Epoch')\n",
    "    ax1.set_ylabel('Loss (Sum squared error)')\n",
    "    ax2.plot(x, acc_list, curveStr)\n",
    "    ax2.set_xlabel('Epoch')\n",
    "    ax2.set_ylabel('Accuracy')\n",
    "    \n",
    "    plt.show()\n",
    "plot_adaline_train(net, loss, acc)"
   ]
  },
  {
   "cell_type": "markdown",
   "metadata": {},
   "source": [
    "#### Questions\n",
    "\n",
    "Create a cell immediately below this one to answer questions in project notebooks.\n",
    "\n",
    "1. Based on your loss and accuracy curves, does it look like your network learned to classify the old faithful data? Why or why not?"
   ]
  },
  {
   "cell_type": "markdown",
   "metadata": {},
   "source": [
    "#### Answers\n",
    "\n",
    "1. Based on the above curves, our network successfully learned to classify the old faithful data. Loss decreases and approaches a constant, but does not increase (ideal), while accuracy approaches 100%. However, we could possibly get better accuracy by stopping at a smaller number of epochs when training, since accuracy decreses slightly after around 700 epochs."
   ]
  },
  {
   "cell_type": "markdown",
   "metadata": {},
   "source": [
    "### d. Early stopping\n",
    "\n",
    "A common practice to speed up training is to stop training early (before the prescribed number of epochs is completed) if the loss stops changing (within some criterion level). You will modify the `fit` training function to implement this feature.\n",
    "\n",
    "Add two optional parameters to `fit`:\n",
    "- `early_stopping=False`\n",
    "- `loss_tol=0.1`\n",
    "\n",
    "In this subtask, implement the following:\n",
    "- if `early_stopping` is True, terminate the training process if the difference in loss between the previous and current epoch is `< loss_tol`. This means that the loss has converged before the pre-specified number of training epochs.\n",
    "- Set the number of training epochs to be large (2000). Determine the number of epochs required for the loss to converge."
   ]
  },
  {
   "cell_type": "code",
   "execution_count": 11,
   "metadata": {},
   "outputs": [
    {
     "name": "stdout",
     "output_type": "stream",
     "text": [
      "At the end of training, your loss is 37.88 and accuracy is 0.97\n"
     ]
    }
   ],
   "source": [
    "net = Adaline(2000)\n",
    "loss, acc = net.fit(data, severe, True)\n",
    "print(f'At the end of training, your loss is {loss[-1]:.2f} and accuracy is {acc[-1]:.2f}')"
   ]
  },
  {
   "cell_type": "markdown",
   "metadata": {},
   "source": [
    "#### Question\n",
    "\n",
    "2. How many epochs did it take to train the network with the early stopping tolerance of 0.1?\n",
    "3. At what approximate loss value does the network converge to when stopping early?"
   ]
  },
  {
   "cell_type": "markdown",
   "metadata": {},
   "source": [
    "#### Answer\n",
    "\n",
    "2. 274\n",
    "3. 37.82"
   ]
  },
  {
   "cell_type": "markdown",
   "metadata": {},
   "source": [
    "## Task 2) Feature scaling and convergence\n",
    "\n",
    "**Important:** For this task, disable early stopping  in `fit`!"
   ]
  },
  {
   "cell_type": "markdown",
   "metadata": {},
   "source": [
    "### a. Feature scaling\n",
    "\n",
    "Copy your code from Task 1 to import the old faithful data, but this time don't normalize before training."
   ]
  },
  {
   "cell_type": "code",
   "execution_count": 12,
   "metadata": {},
   "outputs": [
    {
     "name": "stdout",
     "output_type": "stream",
     "text": [
      "At the end of training, your loss is nan and accuracy is 0.00\n"
     ]
    },
    {
     "name": "stderr",
     "output_type": "stream",
     "text": [
      "/Users/dhruv/anaconda3/lib/python3.6/site-packages/numpy/core/fromnumeric.py:86: RuntimeWarning: overflow encountered in reduce\n",
      "  return ufunc.reduce(obj, axis, dtype, out, **passkwargs)\n",
      "/Users/dhruv/Documents/All Documents Backup/School/2019 Fall/CS343/project1/adaline.py:99: RuntimeWarning: overflow encountered in square\n",
      "  squared_error = ((y - net_act)**2)\n",
      "/Users/dhruv/Documents/All Documents Backup/School/2019 Fall/CS343/project1/adaline.py:240: RuntimeWarning: invalid value encountered in add\n",
      "  self.wts[1:] += self.lr * grad_wts\n",
      "/Users/dhruv/Documents/All Documents Backup/School/2019 Fall/CS343/project1/adaline.py:163: RuntimeWarning: invalid value encountered in greater_equal\n",
      "  net_act[net_act >= 0] = 1\n",
      "/Users/dhruv/Documents/All Documents Backup/School/2019 Fall/CS343/project1/adaline.py:164: RuntimeWarning: invalid value encountered in less\n",
      "  net_act[net_act < 0] = -1\n"
     ]
    }
   ],
   "source": [
    "df = pd.read_csv('data/old_faithful.csv')\n",
    "data = df.to_numpy()\n",
    "\n",
    "severe = data[:, 3]\n",
    "data = data[:, 1:3]\n",
    "\n",
    "net = Adaline()\n",
    "loss, acc = net.fit(data, severe)\n",
    "print(f'At the end of training, your loss is {loss[-1]:.2f} and accuracy is {acc[-1]:.2f}')"
   ]
  },
  {
   "cell_type": "markdown",
   "metadata": {},
   "source": [
    "#### Questions\n",
    "\n",
    "4. What happens to the loss when we don't normalize the features before training? Why?"
   ]
  },
  {
   "cell_type": "markdown",
   "metadata": {},
   "source": [
    "#### Answer\n",
    "\n",
    "4. When the features are not normalized, the loss increases significantly with each iteration until becoming completely invalid. This happens since using gradient descent, we make changes to the weights that are proportional to the gradient at the point. When the values are no normalized, using numbers signifincantly greater than 1 cause the gradient descent algorithm to make large jumps in different directions and hence the model is unable to converge. Thus we must normalize the features before training"
   ]
  },
  {
   "cell_type": "markdown",
   "metadata": {},
   "source": [
    "### b. Test how individually standardizing your features affects the rate at which loss decreases over epochs\n",
    "\n",
    "- Write code in the cell below to train the network on standardized features. Recall that standardizing a variable means applying the transformation $\\frac{x - \\mu}{\\sigma}$\n",
    "- Plot the loss and accuracy and **explain how they compare with findings from Task 1**\n",
    "\n",
    "**The cell should generate an inline pair of plots when executed**."
   ]
  },
  {
   "cell_type": "code",
   "execution_count": 13,
   "metadata": {},
   "outputs": [
    {
     "name": "stdout",
     "output_type": "stream",
     "text": [
      "At the end of training, your loss is 11.35 and accuracy is 1.00\n"
     ]
    },
    {
     "data": {
      "image/png": "[encoded data removed]",
      "text/plain": [
       "<Figure size 1008x360 with 2 Axes>"
      ]
     },
     "metadata": {
      "needs_background": "light"
     },
     "output_type": "display_data"
    }
   ],
   "source": [
    "df = pd.read_csv('data/old_faithful.csv')\n",
    "data = df.to_numpy()\n",
    "\n",
    "severe = data[:, 3]\n",
    "data = data[:, 1:3]\n",
    "\n",
    "data[:,0]= (data[:,0]-data[:,0].mean())/data[:,0].std()\n",
    "data[:,1]= (data[:,1]-data[:,1].mean())/data[:,1].std()\n",
    "\n",
    "net = Adaline()\n",
    "loss, acc = net.fit(data, severe)\n",
    "print(f'At the end of training, your loss is {loss[-1]:.2f} and accuracy is {acc[-1]:.2f}')\n",
    "plot_adaline_train(net, loss, acc)"
   ]
  },
  {
   "cell_type": "markdown",
   "metadata": {},
   "source": [
    "#### Questions\n",
    "\n",
    "5. Explain the similarities/differences in loss and accuracy curves between these plots and those that you made in Task 1."
   ]
  },
  {
   "cell_type": "markdown",
   "metadata": {},
   "source": [
    "#### Answer\n",
    "\n",
    "5. In both cases, our loss decreases and our accuracy increases. However, with normalized data, we are able to obtain these results in many fewer epochs. This is because with centered, normalized values, the gradient descent is proportional to the required changes in weights. Hence, the model is able to shift weights proportional to the benefit of making the shift, thus avoiding making jumps around the loss curve."
   ]
  },
  {
   "cell_type": "markdown",
   "metadata": {},
   "source": [
    "### c. Visualize class boundaries\n",
    "\n",
    "For this subtask, you will plot the boundary between points (`eruptions`, `waiting` feature pairs) that get classified as severe (+1) or not (-1). To get there, fill in the blanks and answer the questions below."
   ]
  },
  {
   "cell_type": "code",
   "execution_count": 14,
   "metadata": {},
   "outputs": [
    {
     "data": {
      "text/plain": [
       "array([0.279, 0.704, 0.229])"
      ]
     },
     "execution_count": 14,
     "metadata": {},
     "output_type": "execute_result"
    }
   ],
   "source": [
    "# Here are the learned weights.\n",
    "wts = net.get_wts()\n",
    "wts"
   ]
  },
  {
   "cell_type": "markdown",
   "metadata": {},
   "source": [
    "#### Questions\n",
    "\n",
    "6. What do each of the above learned weights mean in the context of our dataset? Hint: Look at your `net_in` equation, look at the features that you feed into the model, look at the scatterplot you made in 1b, think about what features are present in a single training sample.\n",
    "7. Which feature / weight index corresponds to the \"y axis value\" in your scatterplot from 1b?"
   ]
  },
  {
   "cell_type": "markdown",
   "metadata": {},
   "source": [
    "#### Answer\n",
    "6. Bias + Weight1*Erruptions + Weight2*Waiting = severity\n",
    "   In the context of our data set, the weights provide us with an equation that allows us to predict the severity. Thus, setting severity to 0, we can see a line that the model would suggest was unsure of the severity class of the data point. Hence we can find a line separating the two classes.\n",
    "7. The second feature index corresponds to the \"y axis value\" in our scatterplot from 1b. "
   ]
  },
  {
   "cell_type": "markdown",
   "metadata": {},
   "source": [
    "#### Transform weights for plotting\n",
    "\n",
    "The class boundary equation is $0 = w_0 + w_1 \\times x_i + w_2 \\times y_i$ for sample $i$ in our data ($i$ goes to 272).\n",
    "\n",
    "But to plot it, we want an equation that looks like $y_i = m \\times x_i + b$ where $m$ and $b$ are some combinations of our weights.\n",
    "\n",
    "- Scale the weights so that the one corresponding to the \"y value\" is set to 1, then (by hand) solve for $y$. Once you do, adjust the sign/scale of your weights in code so they match up with the equation you wrote out by hand ( of form $y_i = m \\times x_i + b$).\n",
    "- Once you're done, have the cell below print your transformed weights."
   ]
  },
  {
   "cell_type": "code",
   "execution_count": 15,
   "metadata": {},
   "outputs": [
    {
     "name": "stdout",
     "output_type": "stream",
     "text": [
      "y = -3.0762714656874404x + -1.2207959082284527\n"
     ]
    }
   ],
   "source": [
    "wts = net.get_wts()\n",
    "m = -wts[1]/wts[2]\n",
    "b = -wts[0]/wts[2]\n",
    "print(f\"y = {m}x + {b}\")"
   ]
  },
  {
   "cell_type": "markdown",
   "metadata": {},
   "source": [
    "- The below code samples 50 equally spaced x values from -1.5 to 1.5 for plotting the class boundary. Given the `x_i` values, generate `y_i` values using the equation $y_i = m \\times x_i + b$ (using your transformed weights from above). \n",
    "\n",
    "**Executing the code below should produce a graph that clearly shows this class boundary.**"
   ]
  },
  {
   "cell_type": "code",
   "execution_count": 16,
   "metadata": {},
   "outputs": [
    {
     "data": {
      "image/png": "[encoded data removed]",
      "text/plain": [
       "<Figure size 432x288 with 1 Axes>"
      ]
     },
     "metadata": {
      "needs_background": "light"
     },
     "output_type": "display_data"
    }
   ],
   "source": [
    "# lower and upper bounds for x values of decision curve when plotting in normalized coordinates\n",
    "low, high = -1.5, 1.5\n",
    "\n",
    "# Generate 50 equally spaced x-values that we will plug into the equation for the decision boundary curve\n",
    "# to get the corresponding y-value on the curve\n",
    "x_i = np.linspace(low, high)\n",
    "# TODO: Compute y_i here\n",
    "y_i = (m*x_i)+b\n",
    "\n",
    "plt.scatter(data[:, 0], data[:, 1], c=severe)\n",
    "plt.plot(x_i, y_i)\n",
    "plt.xlabel('eruptions (standardized)')\n",
    "plt.ylabel('waiting (standardized)')\n",
    "plt.show()"
   ]
  },
  {
   "cell_type": "markdown",
   "metadata": {},
   "source": [
    "## Task 3) Hyperparameters and grid search\n",
    "\n",
    "This task focuses on the influence of learning rate (a model **hyperparameter**) on the quality of neural network training.\n",
    "\n",
    "For this task, use the standardized Old Faithful features for input."
   ]
  },
  {
   "cell_type": "markdown",
   "metadata": {},
   "source": [
    "### a. Influence of learning rate on learning"
   ]
  },
  {
   "cell_type": "code",
   "execution_count": 17,
   "metadata": {},
   "outputs": [
    {
     "data": {
      "image/png": "[encoded data removed]",
      "text/plain": [
       "<Figure size 1008x360 with 2 Axes>"
      ]
     },
     "metadata": {
      "needs_background": "light"
     },
     "output_type": "display_data"
    }
   ],
   "source": [
    "net = Adaline(lr=0.0005, n_epochs=10)\n",
    "loss, acc = net.fit(data, y=severe)\n",
    "plot_adaline_train(net, loss, acc, plotMarkers=True)"
   ]
  },
  {
   "cell_type": "markdown",
   "metadata": {},
   "source": [
    "#### Questions\n",
    "\n",
    "8. Make small changes to the learning rate hyperparameter above. How does it affect the loss?\n",
    "9. What happens if the learning rate is increased by several orders of magnitude? How does it affect the loss? Can you explain why?"
   ]
  },
  {
   "cell_type": "markdown",
   "metadata": {},
   "source": [
    "#### Answer\n",
    "\n",
    "8. Small changes change the number of epochs it takes for the model to reach the same loss value\n",
    "    0.001: 12.5 @ 4, 0.00001: 122 @ 10, 0.002: 12.5 @ 2, 0.0005: 12.5 @ 8\n",
    "9. Changes in order of magnitude change the loss value entirely, sometimes making it so the loss never really reaches a minimum. This is probably because if it is too small, there are not enough epochs to reach the minimum, or it gets trapped in a local minimum. If it is too large, it might be because the steps it takes are wider than the width of the minimum."
   ]
  },
  {
   "cell_type": "markdown",
   "metadata": {},
   "source": [
    "### b. Grid search\n",
    "\n",
    "How can we determine a \"good\" value of the learning rate that doesn't result in pathological training behavior? Before, we were just guessing / eye-balling it. \n",
    "\n",
    "One common, simple approach is to perform a **grid search** through the parameter space. We select with a lower bound value for the parameter and walk through the parameter space in equal steps until we hit a upper bound value. After the search concludes, we set the parameter value for \"real simulations\" to the value that \"worked best\" according to some criteria we're interested in optimizing during the grid search.\n",
    "\n",
    "**TODO:** Use grid search to find the highest learning rate that still lowers loss as a function of epoch (i.e. below this value, the loss decreases as a function of epoch, above this critical value, loss increases as a function of epoch). Find the value with precision of at least 1e-3 (10^-3). **Write all your code below and the learning rate that you find in the cell below** — do NOT modify the `Adaline` class.\n",
    "\n",
    "**Tips:**\n",
    "- Define lower and upper bound values for the parameter search, informed by your explorations in 3a.\n",
    "- Define a step size at least as small as your starting value. Your simulation shouldn't last more a few seconds.\n",
    "- There is a `set_learning_rate` method\n",
    "- Keep the number of epochs small (e.g. 10) to keep simulation time reasonable\n",
    "- Remember that you are outputting the entire loss history when you execute `fit`.\n"
   ]
  },
  {
   "cell_type": "code",
   "execution_count": 18,
   "metadata": {},
   "outputs": [
    {
     "name": "stdout",
     "output_type": "stream",
     "text": [
      "The loss after 10 epochs for a learning rate of 0.000050 was 88.3147\n",
      "The loss after 10 epochs for a learning rate of 0.000100 was 60.5511\n",
      "The loss after 10 epochs for a learning rate of 0.000150 was 43.9065\n",
      "The loss after 10 epochs for a learning rate of 0.000200 was 31.8154\n",
      "The loss after 10 epochs for a learning rate of 0.000250 was 24.7510\n",
      "The loss after 10 epochs for a learning rate of 0.000300 was 20.0824\n",
      "The loss after 10 epochs for a learning rate of 0.000350 was 17.5868\n",
      "The loss after 10 epochs for a learning rate of 0.000400 was 15.5292\n",
      "The loss after 10 epochs for a learning rate of 0.000450 was 14.4946\n",
      "The loss after 10 epochs for a learning rate of 0.000500 was 13.8008\n",
      "The loss after 10 epochs for a learning rate of 0.000550 was 13.2992\n",
      "The loss after 10 epochs for a learning rate of 0.000600 was 13.1465\n",
      "The loss after 10 epochs for a learning rate of 0.000650 was 12.7495\n",
      "The loss after 10 epochs for a learning rate of 0.000700 was 12.6953\n",
      "The loss after 10 epochs for a learning rate of 0.000750 was 12.5134\n",
      "The loss after 10 epochs for a learning rate of 0.000800 was 12.6108\n",
      "The loss after 10 epochs for a learning rate of 0.000850 was 12.4354\n",
      "The loss after 10 epochs for a learning rate of 0.000900 was 12.3713\n",
      "The loss after 10 epochs for a learning rate of 0.000950 was 12.3423\n",
      "The loss after 10 epochs for a learning rate of 0.001000 was 12.3289\n",
      "The loss after 10 epochs for a learning rate of 0.001050 was 12.2698\n",
      "The loss after 10 epochs for a learning rate of 0.001100 was 12.2368\n",
      "The loss after 10 epochs for a learning rate of 0.001150 was 12.1813\n",
      "The loss after 10 epochs for a learning rate of 0.001200 was 12.1826\n",
      "The loss after 10 epochs for a learning rate of 0.001250 was 12.2373\n",
      "The loss after 10 epochs for a learning rate of 0.001300 was 12.1680\n",
      "The loss after 10 epochs for a learning rate of 0.001350 was 12.0971\n",
      "The loss after 10 epochs for a learning rate of 0.001400 was 12.0534\n",
      "The loss after 10 epochs for a learning rate of 0.001450 was 12.0743\n",
      "The loss after 10 epochs for a learning rate of 0.001500 was 12.1440\n",
      "The loss after 10 epochs for a learning rate of 0.001550 was 12.0295\n",
      "The loss after 10 epochs for a learning rate of 0.001600 was 12.0516\n",
      "The loss after 10 epochs for a learning rate of 0.001650 was 11.9780\n",
      "The loss after 10 epochs for a learning rate of 0.001700 was 11.9212\n",
      "The loss after 10 epochs for a learning rate of 0.001750 was 11.9344\n",
      "The loss after 10 epochs for a learning rate of 0.001800 was 11.9658\n",
      "The loss after 10 epochs for a learning rate of 0.001850 was 11.9687\n",
      "The loss after 10 epochs for a learning rate of 0.001900 was 12.0144\n",
      "The loss after 10 epochs for a learning rate of 0.001950 was 11.9321\n",
      "The loss after 10 epochs for a learning rate of 0.002000 was 11.9213\n",
      "The loss after 10 epochs for a learning rate of 0.002050 was 11.9324\n",
      "The loss after 10 epochs for a learning rate of 0.002100 was 11.8982\n",
      "The loss after 10 epochs for a learning rate of 0.002150 was 11.8469\n",
      "The loss after 10 epochs for a learning rate of 0.002200 was 11.8874\n",
      "The loss after 10 epochs for a learning rate of 0.002250 was 11.8324\n",
      "The loss after 10 epochs for a learning rate of 0.002300 was 11.8178\n",
      "The loss after 10 epochs for a learning rate of 0.002350 was 11.8135\n",
      "The loss after 10 epochs for a learning rate of 0.002400 was 11.8183\n",
      "The loss after 10 epochs for a learning rate of 0.002450 was 11.7635\n",
      "The loss after 10 epochs for a learning rate of 0.002500 was 11.8019\n",
      "The loss after 10 epochs for a learning rate of 0.002550 was 11.7324\n",
      "The loss after 10 epochs for a learning rate of 0.002600 was 11.7544\n",
      "The loss after 10 epochs for a learning rate of 0.002650 was 11.7524\n",
      "The loss after 10 epochs for a learning rate of 0.002700 was 11.7841\n",
      "The loss after 10 epochs for a learning rate of 0.002750 was 11.7124\n",
      "The loss after 10 epochs for a learning rate of 0.002800 was 11.7148\n",
      "The loss after 10 epochs for a learning rate of 0.002850 was 11.7230\n",
      "The loss after 10 epochs for a learning rate of 0.002900 was 11.6827\n",
      "The loss after 10 epochs for a learning rate of 0.002950 was 11.6751\n",
      "The loss after 10 epochs for a learning rate of 0.003000 was 11.6953\n",
      "The loss after 10 epochs for a learning rate of 0.003050 was 11.6934\n",
      "The loss after 10 epochs for a learning rate of 0.003100 was 11.6527\n",
      "The loss after 10 epochs for a learning rate of 0.003150 was 11.6773\n",
      "The loss after 10 epochs for a learning rate of 0.003200 was 11.7284\n",
      "The loss after 10 epochs for a learning rate of 0.003250 was 11.7771\n",
      "The loss after 10 epochs for a learning rate of 0.003300 was 11.8450\n",
      "The loss after 10 epochs for a learning rate of 0.003350 was 12.0114\n",
      "The loss after 10 epochs for a learning rate of 0.003400 was 12.3542\n",
      "The loss after 10 epochs for a learning rate of 0.003450 was 13.0826\n",
      "The loss after 10 epochs for a learning rate of 0.003500 was 14.1050\n",
      "The loss after 10 epochs for a learning rate of 0.003550 was 15.9232\n",
      "The loss after 10 epochs for a learning rate of 0.003600 was 19.4752\n",
      "The loss after 10 epochs for a learning rate of 0.003650 was 23.9099\n",
      "The loss after 10 epochs for a learning rate of 0.003700 was 34.0521\n",
      "The loss after 10 epochs for a learning rate of 0.003750 was 48.5001\n",
      "The loss after 10 epochs for a learning rate of 0.003800 was 69.9741\n",
      "The loss after 10 epochs for a learning rate of 0.003850 was 109.7575\n",
      "The loss after 10 epochs for a learning rate of 0.003900 was 162.7041\n",
      "The loss after 10 epochs for a learning rate of 0.003950 was 237.0266\n",
      "The loss after 10 epochs for a learning rate of 0.004000 was 371.0776\n",
      "The loss after 10 epochs for a learning rate of 0.004050 was 584.2566\n",
      "The loss after 10 epochs for a learning rate of 0.004100 was 910.7862\n",
      "The loss after 10 epochs for a learning rate of 0.004150 was 1304.3212\n",
      "The loss after 10 epochs for a learning rate of 0.004200 was 1956.6962\n",
      "The loss after 10 epochs for a learning rate of 0.004250 was 2866.5230\n",
      "The loss after 10 epochs for a learning rate of 0.004300 was 4432.0574\n",
      "The loss after 10 epochs for a learning rate of 0.004350 was 6247.6895\n",
      "The loss after 10 epochs for a learning rate of 0.004400 was 9042.0029\n",
      "The loss after 10 epochs for a learning rate of 0.004450 was 12599.5115\n",
      "The loss after 10 epochs for a learning rate of 0.004500 was 18311.0562\n",
      "The loss after 10 epochs for a learning rate of 0.004550 was 26247.3216\n",
      "The loss after 10 epochs for a learning rate of 0.004600 was 37079.2247\n",
      "The loss after 10 epochs for a learning rate of 0.004650 was 53021.5099\n",
      "The loss after 10 epochs for a learning rate of 0.004700 was 68987.7079\n",
      "The loss after 10 epochs for a learning rate of 0.004750 was 93364.5488\n",
      "The loss after 10 epochs for a learning rate of 0.004800 was 132846.2113\n",
      "The loss after 10 epochs for a learning rate of 0.004850 was 179391.2153\n",
      "The loss after 10 epochs for a learning rate of 0.004900 was 240626.4670\n",
      "The loss after 10 epochs for a learning rate of 0.004950 was 325174.1388\n",
      "The loss after 10 epochs for a learning rate of 0.005000 was 449259.9868\n",
      "The best learning rate was 0.0031\n"
     ]
    }
   ],
   "source": [
    "np.random.seed(0)\n",
    "lr = 0.00005\n",
    "best_avg = 1000000000\n",
    "best_lr = lr\n",
    "last_five_losses = []\n",
    "net = Adaline(10)\n",
    "for i in range(100):\n",
    "    net.set_learning_rate(lr)\n",
    "    loss, acc = net.fit(data, severe)\n",
    "    print(f\"The loss after 10 epochs for a learning rate of {lr:.6f} was {loss[-1]:.4f}\")\n",
    "    lr += 0.00005\n",
    "    last_five_losses.append(loss[-1])\n",
    "    if len(last_five_losses) > 5:\n",
    "        last_five_losses.pop(0)\n",
    "        avg = sum(last_five_losses)/len(last_five_losses)\n",
    "        if avg < best_avg:\n",
    "            best_avg = avg\n",
    "            best_lr = lr-0.0001\n",
    "print(f\"The best learning rate was {best_lr:.4f}\")"
   ]
  },
  {
   "cell_type": "markdown",
   "metadata": {},
   "source": [
    "#### Questions\n",
    "\n",
    "10. What is the critical learning rate value above which loss starts to increase?"
   ]
  },
  {
   "cell_type": "markdown",
   "metadata": {},
   "source": [
    "#### Answer\n",
    "\n",
    "10. 0.0031"
   ]
  }
 ],
 "metadata": {
  "kernelspec": {
   "display_name": "Python 3 (ipykernel)",
   "language": "python",
   "name": "python3"
  },
  "language_info": {
   "codemirror_mode": {
    "name": "ipython",
    "version": 3
   },
   "file_extension": ".py",
   "mimetype": "text/x-python",
   "name": "python",
   "nbconvert_exporter": "python",
   "pygments_lexer": "ipython3",
   "version": "3.9.5"
  },
  "varInspector": {
   "cols": {
    "lenName": 16,
    "lenType": 16,
    "lenVar": 40
   },
   "kernels_config": {
    "python": {
     "delete_cmd_postfix": "",
     "delete_cmd_prefix": "del ",
     "library": "var_list.py",
     "varRefreshCmd": "print(var_dic_list())"
    },
    "r": {
     "delete_cmd_postfix": ") ",
     "delete_cmd_prefix": "rm(",
     "library": "var_list.r",
     "varRefreshCmd": "cat(var_dic_list()) "
    }
   },
   "types_to_exclude": [
    "module",
    "function",
    "builtin_function_or_method",
    "instance",
    "_Feature"
   ],
   "window_display": false
  }
 },
 "nbformat": 4,
 "nbformat_minor": 2
}
